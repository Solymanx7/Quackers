{
 "cells": [
  {
   "cell_type": "code",
   "execution_count": 5,
   "id": "a99383e2",
   "metadata": {},
   "outputs": [],
   "source": [
    "# QPIE method ( Quantum Probability Image Encoding )\n",
    "\n",
    "# Importing the libraries\n",
    "import numpy as np\n",
    "import qiskit\n",
    "from qiskit import QuantumCircuit, ClassicalRegister, QuantumRegister, Aer, BasicAer, transpile, assemble\n",
    "from qiskit.execute_function import execute\n",
    "from qiskit.circuit.library import QFT\n",
    "from qiskit.visualization import plot_histogram\n",
    "from PIL import Image\n",
    "from typing import Dict, List, Tuple\n",
    "from collections import Counter\n",
    "from sklearn.metrics import mean_squared_error\n",
    "import pickle\n",
    "import json\n",
    "from itertools import chain\n",
    "import matplotlib.pyplot as plt\n",
    "from time import sleep\n",
    "from tqdm import tqdm\n",
    "\n",
    "# GLOBAL VARIABLES\n",
    "DIM = 28\n",
    "NUM_QUBITS = 10\n",
    "\n",
    "\n",
    "###########################\n",
    "##### Functions #####\n",
    "###########################\n",
    "\n",
    "def encode_img(image, register_num):\n",
    "    ''' encoding of image using QPIE method '''\n",
    "    img = list(chain(*image))\n",
    "    pix_val = img\n",
    "\n",
    "    # normalize\n",
    "    pix_norm = np.linalg.norm(pix_val)\n",
    "    pix_val = np.array(pix_val)\n",
    "    arr_norm = pix_val/pix_norm\n",
    "    arr_norm = arr_norm.tolist()\n",
    "\n",
    "    # Encode onto the quantum register\n",
    "    qc = QuantumCircuit(register_num)\n",
    "    # test = arr_norm.append(np.zeros(2**10-arr_norm.shape))\n",
    "    test = arr_norm + np.zeros(2**register_num-DIM**2).tolist()\n",
    "    qc.initialize(test, qc.qubits)\n",
    "    return qc\n",
    "\n",
    "\n",
    "def encode(image):\n",
    "    ''' final wrapper function (for submission) '''\n",
    "    return encode_img(255*255*image, register_num=NUM_QUBITS)\n",
    "\n",
    "\n",
    "def decode_img(histogram):\n",
    "    ''' decoding (written by prathu) '''\n",
    "    pixelnums = list(range(DIM**2))\n",
    "    for pix in pixelnums:\n",
    "        if pix not in histogram.keys():\n",
    "            # grayscale pixel value is 0\n",
    "            histogram.update({pix: 0})\n",
    "\n",
    "    histnew = dict(sorted(histogram.items()))\n",
    "\n",
    "    histdata = []\n",
    "    # for i in enumerate(histnew):\n",
    "    for i in range(len(histnew)):\n",
    "        histdata.append(histnew[i])\n",
    "    histdata = np.array(histdata)\n",
    "    histarr = np.reshape(histdata, (DIM, DIM))\n",
    "\n",
    "    return histarr\n",
    "\n",
    "\n",
    "def decode(histogram):\n",
    "    ''' final wrapper function (for submission) '''\n",
    "    return decode_img(histogram)\n",
    "\n",
    "\n",
    "################\n",
    "# Helpers\n",
    "################\n",
    "\n",
    "\n",
    "def simulate(circuit: QuantumCircuit) -> Dict:\n",
    "    \"\"\"Simulate circuit given state vector\"\"\"\n",
    "    backend = BasicAer.get_backend('statevector_simulator')\n",
    "    job = execute(circuit, backend)\n",
    "    result = job.result()\n",
    "    state_vector = result.get_statevector(circuit)\n",
    "\n",
    "    histogram = dict()\n",
    "    for i in range(len(state_vector)):\n",
    "        population = abs(state_vector[i]) ** 2\n",
    "        if population > 1e-9:\n",
    "            histogram[i] = population\n",
    "\n",
    "    return histogram\n",
    "\n",
    "\n",
    "def histogram_to_cat(histogram):\n",
    "    assert abs(sum(histogram.values()) - 1) < 1e-8\n",
    "    positive = 0\n",
    "    for key in histogram.keys():\n",
    "        digits = bin(int(key))[2:].zfill(20)\n",
    "        if digits[-1] == '0':\n",
    "            positive += histogram[key]\n",
    "\n",
    "    return positive\n",
    "\n",
    "\n",
    "def image_mse(img1, img2):\n",
    "    return mean_squared_error(img1, img2)\n",
    "\n",
    "\n",
    "def count_gates(circuit: qiskit.QuantumCircuit) -> Dict[int, int]:\n",
    "    \"\"\" finds num of gate operations with each num of qubits \"\"\"\n",
    "    return Counter([len(gate[1]) for gate in circuit.data])"
   ]
  },
  {
   "cell_type": "code",
   "execution_count": 10,
   "id": "076bcb80",
   "metadata": {},
   "outputs": [
    {
     "data": {
      "text/plain": [
       "<matplotlib.image.AxesImage at 0x1fda2d0cb80>"
      ]
     },
     "execution_count": 10,
     "metadata": {},
     "output_type": "execute_result"
    },
    {
     "data": {
      "image/png": "[encoded data removed]",
      "text/plain": [
       "<Figure size 640x480 with 1 Axes>"
      ]
     },
     "metadata": {},
     "output_type": "display_data"
    }
   ],
   "source": [
    "# Testing Encoding/Decoding - Showing image before and after (original --> decoded from original)\n",
    "images = np.load('../data/images.npy')\n",
    "labels = np.load('../data/labels.npy')\n",
    "\n",
    "\n",
    "# test part1\n",
    "def run_part1(image):\n",
    "    circuit = encode(image)\n",
    "    histogram = simulate(circuit)\n",
    "    image_reconstructed = decode(histogram)\n",
    "    return circuit, image_reconstructed"
   ]
  },
  {
   "cell_type": "code",
   "execution_count": 9,
   "id": "bb104ff1",
   "metadata": {},
   "outputs": [
    {
     "name": "stdout",
     "output_type": "stream",
     "text": [
      "Encoding/Decoding Start\n"
     ]
    },
    {
     "name": "stderr",
     "output_type": "stream",
     "text": [
      "100%|████████████████████████████████████████████████████████████████████████████████████| 5/5 [01:35<00:00, 19.03s/it]\n"
     ]
    },
    {
     "name": "stdout",
     "output_type": "stream",
     "text": [
      "fidelity:  0.9999998773010929\n",
      "gatecount:  0.0\n",
      "score:  0.9999998773010929\n"
     ]
    },
    {
     "data": {
      "image/png": "[encoded data removed]",
      "text/plain": [
       "<Figure size 640x480 with 1 Axes>"
      ]
     },
     "metadata": {},
     "output_type": "display_data"
    }
   ],
   "source": [
    "###########################\n",
    "##### Main #####\n",
    "###########################\n",
    "\n",
    "# load data\n",
    "images = np.load('../data/images.npy')\n",
    "labels = np.load('../data/labels.npy')\n",
    "\n",
    "\n",
    "# test part1\n",
    "def run_part1(image):\n",
    "    circuit = encode(image)\n",
    "    histogram = simulate(circuit)\n",
    "    image_reconstructed = decode(histogram)\n",
    "    return circuit, image_reconstructed\n",
    "\n",
    "\n",
    "start = 0\n",
    "stop = 5\n",
    "images = images[start:stop]\n",
    "length = len(images)\n",
    "mse = 0\n",
    "gatecount = 0\n",
    "\n",
    "print(\"Encoding/Decoding Start\")\n",
    "for image in tqdm(images):\n",
    "    # encode\n",
    "    circuit, image_reconstructed = run_part1(image)\n",
    "    plt.imshow(image_reconstructed)\n",
    "    # count num of 2qubit gates\n",
    "    gatecount += count_gates(circuit)[2]\n",
    "    # calculate mse\n",
    "    mse += image_mse(image, image_reconstructed)\n",
    "    \n",
    "\n",
    "# fidelity of reconstruction\n",
    "f = 1-mse/length\n",
    "gatecount = gatecount/length\n",
    "\n",
    "# score\n",
    "score = f*(0.999**gatecount)\n",
    "\n",
    "print('fidelity: ', f)\n",
    "print('gatecount: ', gatecount)\n",
    "print('score: ', score)\n",
    "\n",
    "# for image in images:\n",
    "#     while start < stop:\n",
    "#         circuit = encode_img(255*255*image, 10)\n",
    "#         histogram = simulate(circuit)\n",
    "#         print(histogram)\n",
    "#     start += 1"
   ]
  },
  {
   "cell_type": "code",
   "execution_count": null,
   "id": "48ec8f7f",
   "metadata": {},
   "outputs": [],
   "source": []
  }
 ],
 "metadata": {
  "kernelspec": {
   "display_name": "Python 3 (ipykernel)",
   "language": "python",
   "name": "python3"
  },
  "language_info": {
   "codemirror_mode": {
    "name": "ipython",
    "version": 3
   },
   "file_extension": ".py",
   "mimetype": "text/x-python",
   "name": "python",
   "nbconvert_exporter": "python",
   "pygments_lexer": "ipython3",
   "version": "3.9.0"
  }
 },
 "nbformat": 4,
 "nbformat_minor": 5
}
