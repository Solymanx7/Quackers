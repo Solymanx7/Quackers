{
 "cells": [
  {
   "cell_type": "code",
   "execution_count": 1,
   "metadata": {},
   "outputs": [],
   "source": [
    "import warnings\n",
    "warnings.filterwarnings('ignore')"
   ]
  },
  {
   "cell_type": "code",
   "execution_count": 2,
   "metadata": {},
   "outputs": [
    {
     "name": "stderr",
     "output_type": "stream",
     "text": [
      "C:\\Users\\pc\\AppData\\Local\\Programs\\Python\\Python39\\lib\\site-packages\\qiskit\\aqua\\__init__.py:86: DeprecationWarning: The package qiskit.aqua is deprecated. It was moved/refactored to qiskit-terra For more information see <https://github.com/Qiskit/qiskit-aqua/blob/main/README.md#migration-guide>\n",
      "  warn_package('aqua', 'qiskit-terra')\n"
     ]
    }
   ],
   "source": [
    "\n",
    "import matplotlib.pyplot as plt\n",
    "import numpy as np\n",
    "from itertools import chain\n",
    "from sklearn.model_selection import train_test_split\n",
    "from sklearn.decomposition import PCA\n",
    "\n",
    "from qiskit import BasicAer, QuantumCircuit\n",
    "from qiskit.circuit.library import ZZFeatureMap\n",
    "from qiskit.aqua import QuantumInstance, aqua_globals\n",
    "from qiskit.aqua.algorithms import QSVM\n",
    "from qiskit.aqua.utils import split_dataset_to_data_and_labels, map_label_to_class_name\n",
    "from qiskit.circuit.library import QFT\n",
    "from qiskit.aqua.components.feature_maps import FeatureMap\n",
    "from tqdm import tqdm\n",
    "\n",
    "\n",
    "seed = 10599\n",
    "aqua_globals.random_seed = seed\n",
    "DIM = 28\n",
    "NUM_QUBITS = 10"
   ]
  },
  {
   "cell_type": "code",
   "execution_count": 3,
   "metadata": {},
   "outputs": [
    {
     "name": "stdout",
     "output_type": "stream",
     "text": [
      "No of entries in dataset 10\n"
     ]
    }
   ],
   "source": [
    "dataset = np.load('../data/images.npy')[:10]\n",
    "dataset_labels = np.load('../data/labels.npy')[:10]\n",
    "print('No of entries in dataset {}'.format(len(dataset)))"
   ]
  },
  {
   "cell_type": "code",
   "execution_count": 4,
   "metadata": {},
   "outputs": [
    {
     "name": "stdout",
     "output_type": "stream",
     "text": [
      "(10, 28, 28)\n",
      "(10, 28, 28)\n",
      "shape of X_train (6, 28, 28)\n",
      "shape of y_train (6,)\n",
      "shape of X_test (4, 28, 28)\n",
      "shape of y_test (4,)\n",
      "Size of train set 6\n",
      "Size of test set 4\n"
     ]
    }
   ],
   "source": [
    "print(dataset.shape)\n",
    "# dataset = PCA(n_components=2).fit_transform(dataset.reshape(-1,DIM*DIM))\n",
    "print(dataset.shape)\n",
    "X_train, X_test, y_train, y_test = train_test_split(dataset, dataset_labels, test_size=0.33, random_state=seed)\n",
    "print('shape of X_train {}'.format(X_train.shape))\n",
    "print('shape of y_train {}'.format(y_train.shape))\n",
    "print('shape of X_test {}'.format(X_test.shape))\n",
    "print('shape of y_test {}'.format(y_test.shape))\n",
    "print('Size of train set {}'.format(len(X_train)))\n",
    "print('Size of test set {}'.format(len(X_test)))"
   ]
  },
  {
   "cell_type": "code",
   "execution_count": 9,
   "metadata": {},
   "outputs": [
    {
     "ename": "IndentationError",
     "evalue": "expected an indented block (920042880.py, line 57)",
     "output_type": "error",
     "traceback": [
      "\u001b[1;36m  Cell \u001b[1;32mIn[9], line 57\u001b[1;36m\u001b[0m\n\u001b[1;33m    return self.qc\u001b[0m\n\u001b[1;37m    ^\u001b[0m\n\u001b[1;31mIndentationError\u001b[0m\u001b[1;31m:\u001b[0m expected an indented block\n"
     ]
    }
   ],
   "source": [
    "class CustomFeatureMap(FeatureMap):\n",
    "    \"\"\"Mapping data with a custom feature map.\"\"\"\n",
    "    \n",
    "    def __init__(self, feature_dimension, depth=2, entangler_map=None):\n",
    "        \"\"\"\n",
    "        Args:\n",
    "            feature_dimension (int): number of features\n",
    "            depth (int): the number of repeated circuits\n",
    "            entangler_map (list[list]): describe the connectivity of qubits, each list describes\n",
    "                                        [source, target], or None for full entanglement.\n",
    "                                        Note that the order is the list is the order of\n",
    "                                        applying the two-qubit gate.        \n",
    "        \"\"\"\n",
    "        self._support_parameterized_circuit = False\n",
    "        self._feature_dimension = feature_dimension\n",
    "        self._num_qubits = self._feature_dimension = feature_dimension\n",
    "        self._qc = None\n",
    "        self._depth = depth\n",
    "        self._entangler_map = None\n",
    "        if self._entangler_map is None:\n",
    "            self._entangler_map = [[i, j] for i in range(self._feature_dimension) for j in range(i + 1, self._feature_dimension)]\n",
    "\n",
    "    def apply_qft(self, circuit, register_num):\n",
    "        circuit.append(\n",
    "            QFT(register_num, do_swaps=False).to_gate(), circuit.qubits)\n",
    "        return circuit\n",
    "\n",
    "    def encode_img(self, image, register_num):\n",
    "        ''' encoding of image using QPIE method '''\n",
    "#         print(image)\n",
    "#         print(type(image))\n",
    "#         print(image.shape)\n",
    "        img = list(chain(*image))\n",
    "        pix_val = img\n",
    "        \n",
    "\n",
    "        # normalize\n",
    "        pix_norm = np.linalg.norm(pix_val)\n",
    "        pix_val = np.array(pix_val)\n",
    "        arr_norm = pix_val/pix_norm\n",
    "        arr_norm = arr_norm.tolist()\n",
    "\n",
    "        # Encode onto the quantum register\n",
    "        qc = QuantumCircuit(register_num)\n",
    "        # test = arr_norm.append(np.zeros(2**10-arr_norm.shape))\n",
    "        test = arr_norm + np.zeros(2**register_num-DIM**2).tolist()\n",
    "        qc.initialize(test,qc.qubits)\n",
    "        return qc\n",
    "\n",
    "    def encode(self, image):\n",
    "        ''' final wrapper function (for submission) '''\n",
    "#         return self.encode_img(255*255*image, register_num=NUM_QUBITS)\n",
    "        print(\"\")\n",
    "        return self.apply_qft(self.encode_img(255*255*image, register_num=NUM_QUBITS), register_num=NUM_QUBITS)\n",
    "    \n",
    "    def getQC():\n",
    "        return self.qc\n",
    "\n",
    "    def construct_circuit(self, x, qr, inverse=False):\n",
    "            \"\"\"Construct the feature map circuit.\n",
    "            \n",
    "            Args:\n",
    "                x (numpy.ndarray): 1-D to-be-transformed data.\n",
    "                qr (QauntumRegister): the QuantumRegister object for the circuit.\n",
    "                inverse (bool): whether or not to invert the circuit.\n",
    "                \n",
    "            Returns:\n",
    "                QuantumCircuit: a quantum circuit transforming data x.\n",
    "            \"\"\"\n",
    "            qc = self.encode(x)\n",
    "                        \n",
    "            if inverse:\n",
    "                qc.inverse()\n",
    "                \n",
    "            self._qc = qc\n",
    "            return qc"
   ]
  },
  {
   "cell_type": "code",
   "execution_count": null,
   "metadata": {},
   "outputs": [],
   "source": [
    "# def encode_img(image, register_num):\n",
    "#     ''' encoding of image using QPIE method '''\n",
    "#     img = list(chain(*image))\n",
    "#     pix_val = img\n",
    "\n",
    "#     # normalize\n",
    "#     pix_norm = np.linalg.norm(pix_val)\n",
    "#     pix_val = np.array(pix_val)\n",
    "#     arr_norm = pix_val/pix_norm\n",
    "#     arr_norm = arr_norm.tolist()\n",
    "\n",
    "#     # Encode onto the quantum register\n",
    "#     qc = QuantumCircuit(register_num)\n",
    "#     # test = arr_norm.append(np.zeros(2**10-arr_norm.shape))\n",
    "#     test = arr_norm + np.zeros(2**register_num-DIM**2).tolist()\n",
    "#     qc.initialize(test, qc.qubits)\n",
    "#     return qc\n",
    "\n",
    "\n",
    "# def encode(image):\n",
    "#     ''' final wrapper function (for submission) '''\n",
    "#     return apply_qft(encode_img(255*255*image, register_num=NUM_QUBITS), register_num=NUM_QUBITS)\n",
    "#     # return encode_img(255*255*image, register_num=NUM_QUBITS)\n",
    "\n",
    "# # apply qft\n",
    "\n",
    "\n",
    "# def apply_qft(circuit, register_num):\n",
    "#     circuit.append(\n",
    "#         QFT(register_num, do_swaps=False).to_gate(), circuit.qubits)\n",
    "#     return circuit"
   ]
  },
  {
   "cell_type": "code",
   "execution_count": null,
   "metadata": {},
   "outputs": [],
   "source": [
    "training_input = {'0': [], '1': []}\n",
    "test_input = {'0': [], '1': []}\n",
    "\n",
    "for i in range(len(y_train)):\n",
    "    if y_train[i] == True:\n",
    "        training_input['1'].append(X_train[i])\n",
    "        # print(training_input['1'][-1].shape)\n",
    "        # assert False\n",
    "    else:\n",
    "        training_input['0'].append(X_train[i])\n",
    "# print(training_input)\n",
    "# print(X_train)\n",
    "# print(y_train)\n",
    "for i in range(len(y_test)):\n",
    "    if y_test[i] == True:\n",
    "        test_input['1'].append(X_test[i])\n",
    "    else:\n",
    "        test_input['0'].append(X_test[i])"
   ]
  },
  {
   "cell_type": "code",
   "execution_count": null,
   "metadata": {},
   "outputs": [],
   "source": [
    "# feature_map = ZZFeatureMap(feature_dimension=2, reps=1, entanglement='linear')\n",
    "# enc_image = encode_img(X_train[0])\n",
    "\n",
    "feature_map = CustomFeatureMap(feature_dimension=10)\n",
    "qsvm = QSVM(feature_map, training_input, test_input)\n",
    "\n",
    "backend = BasicAer.get_backend('statevector_simulator')\n",
    "quantum_instance = QuantumInstance(backend, shots=1024, seed_simulator=seed, seed_transpiler=seed)\n",
    "\n",
    "result = tqdm(qsvm.run(quantum_instance))\n",
    "\n",
    "print(f'Testing success ratio: {result[\"testing_accuracy\"]}')\n",
    "print()\n",
    "# print('Prediction from datapoints set:')\n",
    "# print(f'  ground truth: {map_label_to_class_name(datapoints[1], qsvm.label_to_class)}')\n",
    "# print(f'  prediction:   {result[\"predicted_classes\"]}')\n",
    "# predicted_labels = result[\"predicted_labels\"]\n",
    "# print(f'  success rate: {100*np.count_nonzero(predicted_labels == datapoints[1])/len(predicted_labels)}%')"
   ]
  },
  {
   "cell_type": "code",
   "execution_count": null,
   "metadata": {},
   "outputs": [],
   "source": [
    "import pickle\n",
    "with open('quantum_classifier_10samples.pkl','wb') as f:\n",
    "    pickle.dump(qsvm, f)"
   ]
  },
  {
   "cell_type": "code",
   "execution_count": null,
   "metadata": {},
   "outputs": [],
   "source": []
  }
 ],
 "metadata": {
  "kernelspec": {
   "display_name": "Python 3 (ipykernel)",
   "language": "python",
   "name": "python3"
  },
  "language_info": {
   "codemirror_mode": {
    "name": "ipython",
    "version": 3
   },
   "file_extension": ".py",
   "mimetype": "text/x-python",
   "name": "python",
   "nbconvert_exporter": "python",
   "pygments_lexer": "ipython3",
   "version": "3.9.0"
  },
  "vscode": {
   "interpreter": {
    "hash": "e9e277b32f606287ec77cb4c1d105ab51061c8987ab11f031600d3f2674c6102"
   }
  }
 },
 "nbformat": 4,
 "nbformat_minor": 2
}
