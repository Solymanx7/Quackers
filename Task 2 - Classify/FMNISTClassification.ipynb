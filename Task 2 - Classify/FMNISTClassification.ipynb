{
 "cells": [
  {
   "cell_type": "code",
   "execution_count": 16,
   "metadata": {},
   "outputs": [],
   "source": [
    "import matplotlib.pyplot as plt\n",
    "import numpy as np\n",
    "from itertools import chain\n",
    "from sklearn.model_selection import train_test_split\n",
    "from sklearn.decomposition import PCA\n",
    "\n",
    "from qiskit import BasicAer, QuantumCircuit\n",
    "from qiskit.circuit.library import ZZFeatureMap\n",
    "from qiskit.aqua import QuantumInstance, aqua_globals\n",
    "from qiskit.aqua.algorithms import QSVM\n",
    "from qiskit.aqua.utils import split_dataset_to_data_and_labels, map_label_to_class_name\n",
    "from qiskit.circuit.library import QFT\n",
    "\n",
    "seed = 10599\n",
    "aqua_globals.random_seed = seed\n",
    "DIM = 28\n",
    "NUM_QUBITS = 10"
   ]
  },
  {
   "cell_type": "code",
   "execution_count": 24,
   "metadata": {},
   "outputs": [
    {
     "name": "stdout",
     "output_type": "stream",
     "text": [
      "No of entries in dataset 1000\n"
     ]
    }
   ],
   "source": [
    "dataset = np.load('../data/images.npy')[:1000]\n",
    "dataset_labels = np.load('../data/labels.npy')[:1000]\n",
    "print('No of entries in dataset {}'.format(len(dataset)))"
   ]
  },
  {
   "cell_type": "code",
   "execution_count": 25,
   "metadata": {},
   "outputs": [
    {
     "name": "stdout",
     "output_type": "stream",
     "text": [
      "(1000, 28, 28)\n",
      "(1000, 2)\n",
      "shape of X_train (670, 2)\n",
      "shape of y_train (670,)\n",
      "shape of X_test (330, 2)\n",
      "shape of y_test (330,)\n",
      "Size of train set 670\n",
      "Size of test set 330\n"
     ]
    }
   ],
   "source": [
    "print(dataset.shape)\n",
    "dataset = PCA(n_components=2).fit_transform(dataset.reshape(-1,DIM*DIM))\n",
    "print(dataset.shape)\n",
    "X_train, X_test, y_train, y_test = train_test_split(dataset, dataset_labels, test_size=0.33, random_state=seed)\n",
    "print('shape of X_train {}'.format(X_train.shape))\n",
    "print('shape of y_train {}'.format(y_train.shape))\n",
    "print('shape of X_test {}'.format(X_test.shape))\n",
    "print('shape of y_test {}'.format(y_test.shape))\n",
    "print('Size of train set {}'.format(len(X_train)))\n",
    "print('Size of test set {}'.format(len(X_test)))"
   ]
  },
  {
   "cell_type": "code",
   "execution_count": 19,
   "metadata": {},
   "outputs": [],
   "source": [
    "def encode_img(image, register_num):\n",
    "    ''' encoding of image using QPIE method '''\n",
    "    img = list(chain(*image))\n",
    "    pix_val = img\n",
    "\n",
    "    # normalize\n",
    "    pix_norm = np.linalg.norm(pix_val)\n",
    "    pix_val = np.array(pix_val)\n",
    "    arr_norm = pix_val/pix_norm\n",
    "    arr_norm = arr_norm.tolist()\n",
    "\n",
    "    # Encode onto the quantum register\n",
    "    qc = QuantumCircuit(register_num)\n",
    "    # test = arr_norm.append(np.zeros(2**10-arr_norm.shape))\n",
    "    test = arr_norm + np.zeros(2**register_num-DIM**2).tolist()\n",
    "    qc.initialize(test, qc.qubits)\n",
    "    return qc\n",
    "\n",
    "\n",
    "def encode(image):\n",
    "    ''' final wrapper function (for submission) '''\n",
    "    return apply_qft(encode_img(255*255*image, register_num=NUM_QUBITS), register_num=NUM_QUBITS)\n",
    "    # return encode_img(255*255*image, register_num=NUM_QUBITS)\n",
    "\n",
    "# apply qft\n",
    "\n",
    "\n",
    "def apply_qft(circuit, register_num):\n",
    "    circuit.append(\n",
    "        QFT(register_num, do_swaps=False).to_gate(), circuit.qubits)\n",
    "    return circuit"
   ]
  },
  {
   "cell_type": "code",
   "execution_count": 26,
   "metadata": {},
   "outputs": [],
   "source": [
    "training_input = {'0': [], '1': []}\n",
    "test_input = {'0': [], '1': []}\n",
    "\n",
    "for i in range(len(y_train)):\n",
    "    if y_train[i] == True:\n",
    "        training_input['1'].append(X_train[i])\n",
    "        # print(training_input['1'][-1].shape)\n",
    "        # assert False\n",
    "    else:\n",
    "        training_input['0'].append(X_train[i])\n",
    "# print(training_input)\n",
    "# print(X_train)\n",
    "# print(y_train)\n",
    "for i in range(len(y_test)):\n",
    "    if y_test[i] == True:\n",
    "        test_input['1'].append(X_test[i])\n",
    "    else:\n",
    "        test_input['0'].append(X_test[i])"
   ]
  },
  {
   "cell_type": "code",
   "execution_count": 27,
   "metadata": {},
   "outputs": [],
   "source": [
    "feature_map = ZZFeatureMap(feature_dimension=2, reps=1, entanglement='linear')\n",
    "# enc_image = encode_img(X_train[0])\n",
    "qsvm = QSVM(feature_map, training_input, test_input)\n",
    "\n",
    "backend = BasicAer.get_backend('qasm_simulator')\n",
    "quantum_instance = QuantumInstance(backend, shots=1, seed_simulator=seed, seed_transpiler=seed)\n",
    "\n",
    "result = qsvm.run(quantum_instance)\n",
    "\n",
    "print(f'Testing success ratio: {result[\"testing_accuracy\"]}')\n",
    "print()\n",
    "# print('Prediction from datapoints set:')\n",
    "# print(f'  ground truth: {map_label_to_class_name(datapoints[1], qsvm.label_to_class)}')\n",
    "# print(f'  prediction:   {result[\"predicted_classes\"]}')\n",
    "# predicted_labels = result[\"predicted_labels\"]\n",
    "# print(f'  success rate: {100*np.count_nonzero(predicted_labels == datapoints[1])/len(predicted_labels)}%')"
   ]
  },
  {
   "cell_type": "code",
   "execution_count": 23,
   "metadata": {},
   "outputs": [],
   "source": [
    "import pickle\n",
    "with open('quantum_classifier_500samples.pkl','wb') as f:\n",
    "    pickle.dump(qsvm, f)"
   ]
  },
  {
   "cell_type": "code",
   "execution_count": null,
   "metadata": {},
   "outputs": [],
   "source": []
  }
 ],
 "metadata": {
  "kernelspec": {
   "display_name": "ionqenv",
   "language": "python",
   "name": "python3"
  },
  "language_info": {
   "codemirror_mode": {
    "name": "ipython",
    "version": 3
   },
   "file_extension": ".py",
   "mimetype": "text/x-python",
   "name": "python",
   "nbconvert_exporter": "python",
   "pygments_lexer": "ipython3",
   "version": "3.6.9"
  },
  "orig_nbformat": 4,
  "vscode": {
   "interpreter": {
    "hash": "e9e277b32f606287ec77cb4c1d105ab51061c8987ab11f031600d3f2674c6102"
   }
  }
 },
 "nbformat": 4,
 "nbformat_minor": 2
}
