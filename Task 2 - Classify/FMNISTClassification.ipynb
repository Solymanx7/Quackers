{
 "cells": [
  {
   "cell_type": "code",
   "execution_count": 1,
   "metadata": {},
   "outputs": [
    {
     "name": "stderr",
     "output_type": "stream",
     "text": [
      "/home/varshaneya/iquhack/ionqenv/lib/python3.6/site-packages/ipykernel_launcher.py:14: DeprecationWarning: The variable qiskit.aqua.aqua_globals is deprecated. It was moved/refactored to qiskit.utils.algorithm_globals (pip install qiskit-terra). For more information see <https://github.com/Qiskit/qiskit-aqua/blob/main/README.md#migration-guide>\n",
      "  \n"
     ]
    }
   ],
   "source": [
    "import matplotlib.pyplot as plt\n",
    "import numpy as np\n",
    "from itertools import chain\n",
    "from sklearn.model_selection import train_test_split\n",
    "\n",
    "from qiskit import BasicAer, QuantumCircuit\n",
    "from qiskit.circuit.library import ZZFeatureMap\n",
    "from qiskit.aqua import QuantumInstance, aqua_globals\n",
    "from qiskit.aqua.algorithms import QSVM\n",
    "from qiskit.aqua.utils import split_dataset_to_data_and_labels, map_label_to_class_name\n",
    "from qiskit.circuit.library import QFT\n",
    "\n",
    "seed = 10599\n",
    "aqua_globals.random_seed = seed\n",
    "DIM = 28\n",
    "NUM_QUBITS = 10"
   ]
  },
  {
   "cell_type": "code",
   "execution_count": 2,
   "metadata": {},
   "outputs": [
    {
     "name": "stdout",
     "output_type": "stream",
     "text": [
      "No of entries in dataset 20\n"
     ]
    }
   ],
   "source": [
    "dataset = np.load('../data/images.npy')[:20]\n",
    "dataset_labels = np.load('../data/labels.npy')[:20]\n",
    "print('No of entries in dataset {}'.format(len(dataset)))"
   ]
  },
  {
   "cell_type": "code",
   "execution_count": 3,
   "metadata": {},
   "outputs": [
    {
     "name": "stdout",
     "output_type": "stream",
     "text": [
      "shape of X_train (13, 28, 28)\n",
      "shape of y_train (13,)\n",
      "shape of X_test (7, 28, 28)\n",
      "shape of y_test (7,)\n",
      "Size of train set 13\n",
      "Size of test set 7\n"
     ]
    }
   ],
   "source": [
    "X_train, X_test, y_train, y_test = train_test_split(dataset, dataset_labels, test_size=0.33, random_state=seed)\n",
    "print('shape of X_train {}'.format(X_train.shape))\n",
    "print('shape of y_train {}'.format(y_train.shape))\n",
    "print('shape of X_test {}'.format(X_test.shape))\n",
    "print('shape of y_test {}'.format(y_test.shape))\n",
    "print('Size of train set {}'.format(len(X_train)))\n",
    "print('Size of test set {}'.format(len(X_test)))"
   ]
  },
  {
   "cell_type": "code",
   "execution_count": 4,
   "metadata": {},
   "outputs": [],
   "source": [
    "def encode_img(image, register_num):\n",
    "    ''' encoding of image using QPIE method '''\n",
    "    img = list(chain(*image))\n",
    "    pix_val = img\n",
    "\n",
    "    # normalize\n",
    "    pix_norm = np.linalg.norm(pix_val)\n",
    "    pix_val = np.array(pix_val)\n",
    "    arr_norm = pix_val/pix_norm\n",
    "    arr_norm = arr_norm.tolist()\n",
    "\n",
    "    # Encode onto the quantum register\n",
    "    qc = QuantumCircuit(register_num)\n",
    "    # test = arr_norm.append(np.zeros(2**10-arr_norm.shape))\n",
    "    test = arr_norm + np.zeros(2**register_num-DIM**2).tolist()\n",
    "    qc.initialize(test, qc.qubits)\n",
    "    return qc\n",
    "\n",
    "\n",
    "def encode(image):\n",
    "    ''' final wrapper function (for submission) '''\n",
    "    # return apply_qft(encode_img(255*255*image, register_num=NUM_QUBITS), register_num=NUM_QUBITS)\n",
    "    return encode_img(255*255*image, register_num=NUM_QUBITS)\n",
    "\n",
    "# apply qft\n",
    "\n",
    "\n",
    "def apply_qft(circuit, register_num):\n",
    "    circuit.append(\n",
    "        QFT(register_num, do_swaps=False).to_gate(), circuit.qubits)\n",
    "    return circuit"
   ]
  },
  {
   "cell_type": "code",
   "execution_count": 5,
   "metadata": {},
   "outputs": [],
   "source": [
    "training_input = {'0': [], '1': []}\n",
    "test_input = {'0': [], '1': []}\n",
    "\n",
    "for i in range(len(y_train)):\n",
    "    if y_train[i] == True:\n",
    "        training_input['1'].append(encode(X_train[i]))\n",
    "    else:\n",
    "        training_input['0'].append(encode(X_train[i]))\n",
    "# print(training_input)\n",
    "# print(X_train)\n",
    "# print(y_train)\n",
    "for i in range(len(y_test)):\n",
    "    if y_test[i] == True:\n",
    "        test_input['1'].append(encode(X_test[i]))\n",
    "    else:\n",
    "        test_input['0'].append(encode(X_test[i]))"
   ]
  },
  {
   "cell_type": "code",
   "execution_count": 6,
   "metadata": {},
   "outputs": [
    {
     "name": "stderr",
     "output_type": "stream",
     "text": [
      "/home/varshaneya/iquhack/ionqenv/lib/python3.6/site-packages/numpy/core/_asarray.py:83: VisibleDeprecationWarning: Creating an ndarray from ragged nested sequences (which is a list-or-tuple of lists-or-tuples-or ndarrays with different lengths or shapes) is deprecated. If you meant to do this, you must specify 'dtype=object' when creating the ndarray\n",
      "  return array(a, dtype, copy=False, order=order)\n",
      "/home/varshaneya/iquhack/ionqenv/lib/python3.6/site-packages/requests_ntlm/requests_ntlm.py:5: CryptographyDeprecationWarning: Python 3.6 is no longer supported by the Python core team. Therefore, support for it is deprecated in cryptography. The next release of cryptography (40.0) will be the last to support Python 3.6.\n",
      "  from cryptography import x509\n"
     ]
    }
   ],
   "source": [
    "feature_map = ZZFeatureMap(feature_dimension=2, reps=2, entanglement='linear')\n",
    "# enc_image = encode_img(X_train[0])\n",
    "qsvm = QSVM(feature_map, training_input, test_input)\n",
    "\n",
    "backend = BasicAer.get_backend('qasm_simulator')\n",
    "quantum_instance = QuantumInstance(backend, shots=10, seed_simulator=seed, seed_transpiler=seed)\n",
    "\n",
    "result = qsvm.run(quantum_instance)\n",
    "\n",
    "print(f'Testing success ratio: {result[\"testing_accuracy\"]}')\n",
    "print()\n",
    "# print('Prediction from datapoints set:')\n",
    "# print(f'  ground truth: {map_label_to_class_name(datapoints[1], qsvm.label_to_class)}')\n",
    "# print(f'  prediction:   {result[\"predicted_classes\"]}')\n",
    "# predicted_labels = result[\"predicted_labels\"]\n",
    "# print(f'  success rate: {100*np.count_nonzero(predicted_labels == datapoints[1])/len(predicted_labels)}%')"
   ]
  },
  {
   "cell_type": "code",
   "execution_count": null,
   "metadata": {},
   "outputs": [],
   "source": []
  }
 ],
 "metadata": {
  "kernelspec": {
   "display_name": "ionqenv",
   "language": "python",
   "name": "python3"
  },
  "language_info": {
   "codemirror_mode": {
    "name": "ipython",
    "version": 3
   },
   "file_extension": ".py",
   "mimetype": "text/x-python",
   "name": "python",
   "nbconvert_exporter": "python",
   "pygments_lexer": "ipython3",
   "version": "3.6.9"
  },
  "orig_nbformat": 4,
  "vscode": {
   "interpreter": {
    "hash": "e9e277b32f606287ec77cb4c1d105ab51061c8987ab11f031600d3f2674c6102"
   }
  }
 },
 "nbformat": 4,
 "nbformat_minor": 2
}
